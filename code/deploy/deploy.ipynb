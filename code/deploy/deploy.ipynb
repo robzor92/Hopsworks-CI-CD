{
 "cells": [
  {
   "cell_type": "code",
   "execution_count": null,
   "id": "882646c9",
   "metadata": {},
   "outputs": [],
   "source": [
    "import hopsworks\n",
    "project = hopsworks.login()\n",
    "model_registry = project.get_model_registry()\n",
    "fraud_model = model_registry.get_best_model('fraud', 'accuracy', 'max')"
   ]
  },
  {
   "cell_type": "markdown",
   "id": "318c917e",
   "metadata": {
    "id": "-dX28wxChHQX"
   },
   "source": [
    "## 🤖 Create Deployment\n",
    "\n",
    "Next step is to deploy the model on KServe behind Hopsworks for real-time inference requests.\n",
    "\n",
    "**Note:** deployments for scikit-learn without Kserve requires a predictor script. For details please refer to [Hopsworks documentation](https://docs.hopsworks.ai/latest/user_guides/mlops/serving/predictor/#step-2-optional-implement-predictor-script).  "
   ]
  },
  {
   "cell_type": "code",
   "execution_count": null,
   "id": "6e712948",
   "metadata": {
    "colab": {
     "base_uri": "https://localhost:8080/",
     "height": 84,
     "referenced_widgets": [
      "43c0b243b2c9417abc5072f82ba22457",
      "4e326043046247f5ae5bfac3306cb145",
      "a16b8eae9f614a44a9ee7f7ea900d1f2",
      "a0e314c90c5a413d9701a6efcded884b",
      "24536f939afa41f1acff4e55fae4423c",
      "a26b3a1aa96f4eeaaad89d4d662fa010",
      "ed9e0fc80c9e483cb7aafad007b57ea0",
      "7887571c2ea4415080f60ea18be441b1",
      "4559fa2eaf7348ae9dd5d1cfdd3e0bd5",
      "7529396c14464b7b9e349c6ba003cddc",
      "71ad3ff88d62426abda44fdb300b0484"
     ]
    },
    "id": "MHq7yu99sG3x",
    "outputId": "119cbcf2-bf34-49c0-841b-d27c7cfc1e83"
   },
   "outputs": [],
   "source": [
    "deployment = fraud_model.deploy()\n",
    "deployment.start()"
   ]
  },
  {
   "cell_type": "markdown",
   "id": "ca70fe8b",
   "metadata": {},
   "source": [
    "You can retrieve a reference to the model with mr.get_model(..) and a reference to the deployed model with `project.get_model_deployment(..)`"
   ]
  },
  {
   "cell_type": "code",
   "execution_count": null,
   "id": "50b66453",
   "metadata": {},
   "outputs": [],
   "source": [
    "ms = project.get_model_serving()\n",
    "deployment = ms.get_deployment(\"fraud\")\n",
    "fraud_model = mr.get_model(\"fraud\", version=1)"
   ]
  },
  {
   "cell_type": "markdown",
   "id": "6b497fbd",
   "metadata": {
    "id": "QKCTKfcaimxo"
   },
   "source": [
    "## 🚀 Test your Model with an Inference Request\n",
    "\n",
    "Finally you can start making predictions with your model! \n",
    "\n",
    "Send inference requests to the deployed model as follows:"
   ]
  },
  {
   "cell_type": "code",
   "execution_count": null,
   "id": "126c299c",
   "metadata": {
    "colab": {
     "base_uri": "https://localhost:8080/",
     "height": 52
    },
    "id": "aL3-2W39tC-u",
    "outputId": "fbda67a5-ce89-49ff-f113-a7dc8bbc2b6d"
   },
   "outputs": [],
   "source": [
    "deployment.predict({\"instances\":[fraud_model.input_example]})"
   ]
  }
 ],
 "metadata": {
  "kernelspec": {
   "display_name": "Python",
   "language": "python",
   "name": "python3"
  },
  "language_info": {
   "codemirror_mode": {
    "name": "ipython",
    "version": 3
   },
   "file_extension": ".py",
   "mimetype": "text/x-python",
   "name": "python",
   "nbconvert_exporter": "python",
   "pygments_lexer": "ipython3",
   "version": "3.8.11"
  }
 },
 "nbformat": 4,
 "nbformat_minor": 5
}