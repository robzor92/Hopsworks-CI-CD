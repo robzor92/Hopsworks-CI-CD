{
 "cells": [
  {
   "cell_type": "code",
   "execution_count": null,
   "id": "49847859",
   "metadata": {},
   "outputs": [],
   "source": [
    "import argparse\n",
    "\n",
    "parser = argparse.ArgumentParser(description='Arguments for Feature Group creation.')\n",
    "\n",
    "parser.add_argument('--version', default=1, required=False)\n",
    "\n",
    "args = parser.parse_args()"
   ]
  },
  {
   "cell_type": "code",
   "execution_count": null,
   "id": "2c47b0e3",
   "metadata": {},
   "outputs": [],
   "source": [
    "import hopsworks\n",
    "project = hopsworks.login()\n",
    "fs = project.get_feature_store()\n",
    "feature_view= fs.get_feature_view(\"transactions_view\", args.version)"
   ]
  },
  {
   "cell_type": "code",
   "execution_count": null,
   "id": "917101a3",
   "metadata": {},
   "outputs": [],
   "source": [
    "X_train, y_train, X_test, y_test = feature_view.train_test_split(0.2)"
   ]
  },
  {
   "cell_type": "markdown",
   "id": "a80abe42",
   "metadata": {
    "id": "LxZfFvUDmdao"
   },
   "source": [
    "## 🧬 Train Model\n",
    "\n",
    "Next you'll train a model. Here, you set the class weight of the positive class to be twice as big as the negative class.\n"
   ]
  },
  {
   "cell_type": "code",
   "execution_count": null,
   "id": "91d4b849",
   "metadata": {
    "colab": {
     "base_uri": "https://localhost:8080/"
    },
    "id": "2tXdVK91md5n",
    "outputId": "049e125b-a49a-45df-b69e-f24226c3faeb"
   },
   "outputs": [],
   "source": [
    "from sklearn.linear_model import LogisticRegression\n",
    "\n",
    "pos_class_weight = 0.9\n",
    "clf = LogisticRegression(class_weight={0: 1.0 - pos_class_weight, 1: pos_class_weight}, solver='liblinear')\n",
    "clf.fit(X_train, y_train.values.ravel())"
   ]
  },
  {
   "cell_type": "markdown",
   "id": "dd5f631b",
   "metadata": {
    "id": "CWQlec77mkcZ"
   },
   "source": [
    "Let's see how well it performs on your test data."
   ]
  },
  {
   "cell_type": "code",
   "execution_count": null,
   "id": "5f696f63",
   "metadata": {
    "colab": {
     "base_uri": "https://localhost:8080/"
    },
    "id": "qQK-dCZemmpe",
    "outputId": "e054c772-d590-4fe7-992c-fa4db72cbf00"
   },
   "outputs": [],
   "source": [
    "from sklearn.metrics import classification_report\n",
    "import pprint\n",
    "\n",
    "preds = clf.predict(X_test)\n",
    "\n",
    "report_dict = classification_report(y_test, preds, output_dict=True)\n",
    "pprint.pprint(report_dict, width=2)"
   ]
  },
  {
   "cell_type": "markdown",
   "id": "66ed406e",
   "metadata": {
    "id": "Mw20d2ehr5xt"
   },
   "source": [
    "Pickle the model and write it to a local folder."
   ]
  },
  {
   "cell_type": "code",
   "execution_count": null,
   "id": "8bf9f093",
   "metadata": {
    "colab": {
     "base_uri": "https://localhost:8080/"
    },
    "id": "iLZExWW5oFbG",
    "outputId": "e3b27efe-52ab-48d0-8177-7a328c564900"
   },
   "outputs": [],
   "source": [
    "import joblib\n",
    "\n",
    "joblib.dump(clf, 'model.pkl')"
   ]
  },
  {
   "cell_type": "code",
   "execution_count": null,
   "id": "d6793ad1",
   "metadata": {},
   "outputs": [],
   "source": [
    "mr = project.get_model_registry()"
   ]
  },
  {
   "cell_type": "markdown",
   "id": "d932325c",
   "metadata": {
    "id": "hvv1js3KczHh"
   },
   "source": [
    "## 📝 Export Model\n",
    "\n",
    "Next you will export the model and attach additional information like the signature of the inputs/predictions, a concrete input example and evaluation metrics. In the last line, you upload the pickled model file to the Model Registry."
   ]
  },
  {
   "cell_type": "code",
   "execution_count": null,
   "id": "a5064481",
   "metadata": {
    "colab": {
     "base_uri": "https://localhost:8080/"
    },
    "id": "xjQ5JlMqsWdv",
    "outputId": "46cd5673-0100-4bf7-a820-5b099286a28d"
   },
   "outputs": [],
   "source": [
    "from hsml.schema import Schema\n",
    "from hsml.model_schema import ModelSchema\n",
    "\n",
    "input_schema = Schema(X_test)\n",
    "output_schema = Schema(y_test)\n",
    "\n",
    "fraud_model = mr.sklearn.create_model(\"fraud\",\n",
    "                                      metrics={'accuracy': report_dict['accuracy']},\n",
    "                                      input_example=X_test.head(1), \n",
    "                                      model_schema=ModelSchema(input_schema=input_schema, output_schema=output_schema))\n",
    "\n",
    "fraud_model.save('model.pkl')"
   ]
  },
  {
   "cell_type": "code",
   "execution_count": null,
   "id": "9b6b0543",
   "metadata": {},
   "outputs": [],
   "source": []
  }
 ],
 "metadata": {
  "kernelspec": {
   "display_name": "Python",
   "language": "python",
   "name": "python3"
  },
  "language_info": {
   "codemirror_mode": {
    "name": "ipython",
    "version": 3
   },
   "file_extension": ".py",
   "mimetype": "text/x-python",
   "name": "python",
   "nbconvert_exporter": "python",
   "pygments_lexer": "ipython3",
   "version": "3.8.11"
  }
 },
 "nbformat": 4,
 "nbformat_minor": 5
}